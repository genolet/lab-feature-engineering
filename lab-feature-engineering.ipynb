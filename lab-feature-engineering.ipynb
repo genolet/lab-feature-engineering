{
 "cells": [
  {
   "cell_type": "code",
   "execution_count": 1,
   "id": "ad2a32a9",
   "metadata": {},
   "outputs": [
    {
     "name": "stdout",
     "output_type": "stream",
     "text": [
      "/Users/origenolet/Desktop/Ironhack/Week7/Day1/Morning\n"
     ]
    }
   ],
   "source": [
    "%cd ../"
   ]
  },
  {
   "cell_type": "code",
   "execution_count": 2,
   "id": "e0389758",
   "metadata": {},
   "outputs": [],
   "source": [
    "import pandas as pd\n",
    "import numpy as np\n",
    "import matplotlib.pyplot as plt\n",
    "import seaborn as sns \n",
    "pd.set_option('display.max_columns', None)"
   ]
  },
  {
   "cell_type": "code",
   "execution_count": 3,
   "id": "a878ba32",
   "metadata": {},
   "outputs": [],
   "source": [
    "numerical = pd.read_csv('./numerical7_02.csv')\n",
    "categorical = pd.read_csv('./categorical7_02.csv')"
   ]
  },
  {
   "cell_type": "code",
   "execution_count": 4,
   "id": "171682cc",
   "metadata": {},
   "outputs": [
    {
     "data": {
      "text/plain": [
       "(50680, 324)"
      ]
     },
     "execution_count": 4,
     "metadata": {},
     "output_type": "execute_result"
    }
   ],
   "source": [
    "numerical.shape"
   ]
  },
  {
   "cell_type": "code",
   "execution_count": 5,
   "id": "57255973",
   "metadata": {},
   "outputs": [
    {
     "data": {
      "text/plain": [
       "(50680, 16)"
      ]
     },
     "execution_count": 5,
     "metadata": {},
     "output_type": "execute_result"
    }
   ],
   "source": [
    "categorical.shape"
   ]
  },
  {
   "cell_type": "markdown",
   "id": "40833bd7",
   "metadata": {},
   "source": [
    "### Cleaning column GEOCODE2 ###"
   ]
  },
  {
   "cell_type": "code",
   "execution_count": 6,
   "id": "5d177ddd",
   "metadata": {},
   "outputs": [
    {
     "data": {
      "text/plain": [
       "A      18526\n",
       "B      16495\n",
       "C       8306\n",
       "D       7291\n",
       "NaN       62\n",
       "Name: GEOCODE2, dtype: int64"
      ]
     },
     "execution_count": 6,
     "metadata": {},
     "output_type": "execute_result"
    }
   ],
   "source": [
    "categorical[\"GEOCODE2\"].value_counts(dropna = False)"
   ]
  },
  {
   "cell_type": "code",
   "execution_count": 7,
   "id": "994928db",
   "metadata": {},
   "outputs": [],
   "source": [
    "### Since there are very few NAs, I will just remove the rows containing them from the\n",
    "### dataframe\n",
    "\n",
    "ml = categorical[categorical[\"GEOCODE2\"].notna()].index.tolist()\n",
    "numerical = numerical.loc[ml,:]\n",
    "categorical = categorical.loc[ml,:]"
   ]
  },
  {
   "cell_type": "markdown",
   "id": "f27150a2",
   "metadata": {},
   "source": [
    "### Cleaning column WEALTH1 ###\n",
    "\n",
    "*This was done in the code along from today with the following code, so now there are no NAs*\n",
    "\n",
    "ml = numerical[numerical['WEALTH1'].notna()].index.tolist()\n",
    "\n",
    "numerical = numerical.loc[ml,:]\n",
    "\n",
    "categorical = categorical.loc[ml,:]"
   ]
  },
  {
   "cell_type": "code",
   "execution_count": 8,
   "id": "5f5b715c",
   "metadata": {},
   "outputs": [
    {
     "data": {
      "text/plain": [
       "9.0    7578\n",
       "8.0    6784\n",
       "7.0    6192\n",
       "6.0    5816\n",
       "5.0    5272\n",
       "4.0    4807\n",
       "3.0    4230\n",
       "2.0    4080\n",
       "1.0    3450\n",
       "0.0    2409\n",
       "Name: WEALTH1, dtype: int64"
      ]
     },
     "execution_count": 8,
     "metadata": {},
     "output_type": "execute_result"
    }
   ],
   "source": [
    "numerical[\"WEALTH1\"].value_counts(dropna = False)"
   ]
  },
  {
   "cell_type": "markdown",
   "id": "4cccf626",
   "metadata": {},
   "source": [
    "### Cleaning column ADI ###"
   ]
  },
  {
   "cell_type": "code",
   "execution_count": 9,
   "id": "9212088c",
   "metadata": {},
   "outputs": [
    {
     "data": {
      "text/plain": [
       "13.0     3345\n",
       "51.0     2628\n",
       "65.0     1910\n",
       "57.0     1537\n",
       "197.0    1284\n",
       "         ... \n",
       "601.0       1\n",
       "139.0       1\n",
       "145.0       1\n",
       "161.0       1\n",
       "651.0       1\n",
       "Name: ADI, Length: 200, dtype: int64"
      ]
     },
     "execution_count": 9,
     "metadata": {},
     "output_type": "execute_result"
    }
   ],
   "source": [
    "numerical[\"ADI\"].value_counts(dropna = False)"
   ]
  },
  {
   "cell_type": "code",
   "execution_count": 10,
   "id": "78610472",
   "metadata": {},
   "outputs": [
    {
     "data": {
      "text/plain": [
       "0"
      ]
     },
     "execution_count": 10,
     "metadata": {},
     "output_type": "execute_result"
    }
   ],
   "source": [
    "numerical[\"ADI\"].isna().sum()"
   ]
  },
  {
   "cell_type": "code",
   "execution_count": 11,
   "id": "388d7065",
   "metadata": {},
   "outputs": [
    {
     "name": "stderr",
     "output_type": "stream",
     "text": [
      "/Users/origenolet/opt/anaconda3/lib/python3.9/site-packages/seaborn/distributions.py:2619: FutureWarning: `distplot` is a deprecated function and will be removed in a future version. Please adapt your code to use either `displot` (a figure-level function with similar flexibility) or `histplot` (an axes-level function for histograms).\n",
      "  warnings.warn(msg, FutureWarning)\n"
     ]
    },
    {
     "data": {
      "text/plain": [
       "<AxesSubplot:xlabel='ADI', ylabel='Density'>"
      ]
     },
     "execution_count": 11,
     "metadata": {},
     "output_type": "execute_result"
    },
    {
     "data": {
      "image/png": "[encoded data removed]",
      "text/plain": [
       "<Figure size 432x288 with 1 Axes>"
      ]
     },
     "metadata": {
      "needs_background": "light"
     },
     "output_type": "display_data"
    }
   ],
   "source": [
    "sns.distplot(numerical[\"ADI\"])"
   ]
  },
  {
   "cell_type": "code",
   "execution_count": 12,
   "id": "a5aecef8",
   "metadata": {},
   "outputs": [],
   "source": [
    "### This column looks ok, it doesnt have any NAs and the distribution looks ok (It had 32 in\n",
    "### the beginning of the notebook. These were removed after removing the NAs from the GEOCODE2\n",
    "### column)"
   ]
  },
  {
   "cell_type": "markdown",
   "id": "5980621f",
   "metadata": {},
   "source": [
    "### Cleaning column DMA ### "
   ]
  },
  {
   "cell_type": "code",
   "execution_count": 13,
   "id": "4c57eb63",
   "metadata": {},
   "outputs": [
    {
     "data": {
      "text/plain": [
       "803.0    3345\n",
       "602.0    2630\n",
       "807.0    1910\n",
       "505.0    1538\n",
       "524.0    1285\n",
       "         ... \n",
       "584.0       1\n",
       "598.0       1\n",
       "538.0       1\n",
       "502.0       1\n",
       "552.0       1\n",
       "Name: DMA, Length: 200, dtype: int64"
      ]
     },
     "execution_count": 13,
     "metadata": {},
     "output_type": "execute_result"
    }
   ],
   "source": [
    "numerical[\"DMA\"].value_counts(dropna = False)"
   ]
  },
  {
   "cell_type": "code",
   "execution_count": 14,
   "id": "ad2be1ca",
   "metadata": {},
   "outputs": [
    {
     "data": {
      "text/plain": [
       "0"
      ]
     },
     "execution_count": 14,
     "metadata": {},
     "output_type": "execute_result"
    }
   ],
   "source": [
    "numerical[\"DMA\"].isna().sum()"
   ]
  },
  {
   "cell_type": "code",
   "execution_count": 15,
   "id": "05ea2014",
   "metadata": {},
   "outputs": [
    {
     "name": "stderr",
     "output_type": "stream",
     "text": [
      "/Users/origenolet/opt/anaconda3/lib/python3.9/site-packages/seaborn/distributions.py:2619: FutureWarning: `distplot` is a deprecated function and will be removed in a future version. Please adapt your code to use either `displot` (a figure-level function with similar flexibility) or `histplot` (an axes-level function for histograms).\n",
      "  warnings.warn(msg, FutureWarning)\n"
     ]
    },
    {
     "data": {
      "text/plain": [
       "<AxesSubplot:xlabel='DMA', ylabel='Density'>"
      ]
     },
     "execution_count": 15,
     "metadata": {},
     "output_type": "execute_result"
    },
    {
     "data": {
      "image/png": "[encoded data removed]",
      "text/plain": [
       "<Figure size 432x288 with 1 Axes>"
      ]
     },
     "metadata": {
      "needs_background": "light"
     },
     "output_type": "display_data"
    }
   ],
   "source": [
    "sns.distplot(numerical[\"DMA\"])"
   ]
  },
  {
   "cell_type": "code",
   "execution_count": 16,
   "id": "7b548801",
   "metadata": {},
   "outputs": [],
   "source": [
    "### This column looks ok, it doesnt have any NAs and the distribution looks ok (It had 32 in\n",
    "### the beginning of the notebook. These were removed after removing the NAs from the GEOCODE2\n",
    "### column)"
   ]
  },
  {
   "cell_type": "markdown",
   "id": "fdc3cd70",
   "metadata": {},
   "source": [
    "### Cleaning column MSA ### "
   ]
  },
  {
   "cell_type": "code",
   "execution_count": 17,
   "id": "079498f0",
   "metadata": {},
   "outputs": [
    {
     "data": {
      "text/plain": [
       "0.0       9704\n",
       "1600.0    2307\n",
       "4480.0    2185\n",
       "2160.0    1381\n",
       "520.0     1108\n",
       "          ... \n",
       "1480.0       1\n",
       "1320.0       1\n",
       "2281.0       1\n",
       "1303.0       1\n",
       "7610.0       1\n",
       "Name: MSA, Length: 287, dtype: int64"
      ]
     },
     "execution_count": 17,
     "metadata": {},
     "output_type": "execute_result"
    }
   ],
   "source": [
    "numerical[\"MSA\"].value_counts(dropna = False)"
   ]
  },
  {
   "cell_type": "code",
   "execution_count": 18,
   "id": "2aabaf43",
   "metadata": {},
   "outputs": [
    {
     "data": {
      "text/plain": [
       "0"
      ]
     },
     "execution_count": 18,
     "metadata": {},
     "output_type": "execute_result"
    }
   ],
   "source": [
    "numerical[\"MSA\"].isna().sum()"
   ]
  },
  {
   "cell_type": "code",
   "execution_count": 19,
   "id": "b2150f4b",
   "metadata": {},
   "outputs": [
    {
     "name": "stderr",
     "output_type": "stream",
     "text": [
      "/Users/origenolet/opt/anaconda3/lib/python3.9/site-packages/seaborn/distributions.py:2619: FutureWarning: `distplot` is a deprecated function and will be removed in a future version. Please adapt your code to use either `displot` (a figure-level function with similar flexibility) or `histplot` (an axes-level function for histograms).\n",
      "  warnings.warn(msg, FutureWarning)\n"
     ]
    },
    {
     "data": {
      "text/plain": [
       "<AxesSubplot:xlabel='MSA', ylabel='Density'>"
      ]
     },
     "execution_count": 19,
     "metadata": {},
     "output_type": "execute_result"
    },
    {
     "data": {
      "image/png": "[encoded data removed]",
      "text/plain": [
       "<Figure size 432x288 with 1 Axes>"
      ]
     },
     "metadata": {
      "needs_background": "light"
     },
     "output_type": "display_data"
    }
   ],
   "source": [
    "sns.distplot(numerical[\"MSA\"])"
   ]
  },
  {
   "cell_type": "code",
   "execution_count": 20,
   "id": "5bb49cb9",
   "metadata": {},
   "outputs": [],
   "source": [
    "### This column looks ok, it doesnt have any NAs and the distribution looks ok (It had 32 in\n",
    "### the beginning of the notebook. These were removed after removing the NAs from the GEOCODE2\n",
    "### column)\n",
    "\n",
    "### This column has a lot of the value 0. I will not change this since maybe its supposed to be\n",
    "### this way?"
   ]
  }
 ],
 "metadata": {
  "kernelspec": {
   "display_name": "Python 3 (ipykernel)",
   "language": "python",
   "name": "python3"
  },
  "language_info": {
   "codemirror_mode": {
    "name": "ipython",
    "version": 3
   },
   "file_extension": ".py",
   "mimetype": "text/x-python",
   "name": "python",
   "nbconvert_exporter": "python",
   "pygments_lexer": "ipython3",
   "version": "3.9.12"
  }
 },
 "nbformat": 4,
 "nbformat_minor": 5
}
